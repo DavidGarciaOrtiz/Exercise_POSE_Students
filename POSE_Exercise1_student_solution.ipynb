{
 "cells": [
  {
   "cell_type": "markdown",
   "id": "fccc99dd",
   "metadata": {
    "tags": [
     "export"
    ]
   },
   "source": [
    "## **Exercise 1**\n",
    "\n",
    "**Assuming you have a Brick sized (40mm, 20mm, 15mm) and we make a translation and rotation in function of Mobile frame,**\n",
    "\n",
    "<img src=\"images/ex1.png\" width=\"300\"/>\n",
    "\n",
    "**a) Find the Pose of Bframe respect World if pose of Aframe is (30,40,50,0,0,0)**\n",
    "\n",
    "**b) Find the position of the center of gravity of brick with respect to the Bframe, before and after processing the movement**\n",
    "\n",
    "**c) Find the position of the center of gravity of brick with respect to the A-frame, before and after processing the movement**\n",
    "\n",
    "**d) Solve also the three previous questions analytically and using roboDK**\n"
   ]
  },
  {
   "cell_type": "markdown",
   "id": "ce153827",
   "metadata": {},
   "source": [
    "We will first open Exercises1_2.rdk"
   ]
  },
  {
   "cell_type": "code",
   "execution_count": 4,
   "id": "b91d0eaa",
   "metadata": {},
   "outputs": [
    {
     "name": "stdout",
     "output_type": "stream",
     "text": [
      "🔁 Closing any existing RoboDK instances...\n",
      "🚀 Launching RoboDK with project: Exercises1_2.rdk\n",
      "⏳ Waiting for RoboDK to be ready...\n",
      "✅ Connected to RoboDK API.\n",
      "📂 Project loaded: World\n"
     ]
    }
   ],
   "source": [
    "from pathlib import Path\n",
    "import subprocess\n",
    "import time\n",
    "from robodk.robolink import Robolink, ITEM_TYPE_STATION\n",
    "\n",
    "# === 1. Paths ===\n",
    "notebook_dir = Path().resolve()\n",
    "exe_path = Path(r\"C:\\RoboDK\\bin\\RoboDK.exe\")\n",
    "project_path = (notebook_dir / \"Exercises1_2.rdk\").resolve()\n",
    "\n",
    "# === 2. Kill previous RoboDK instances ===\n",
    "print(\"🔁 Closing any existing RoboDK instances...\")\n",
    "subprocess.call(\"taskkill /f /im RoboDK.exe\", shell=True)\n",
    "time.sleep(2)\n",
    "\n",
    "# === 3. Start RoboDK with project as argument ===\n",
    "print(f\"🚀 Launching RoboDK with project: {project_path.name}\")\n",
    "subprocess.Popen([str(exe_path), str(project_path)])\n",
    "time.sleep(2)\n",
    "\n",
    "# === 4. Wait for API connection ===\n",
    "print(\"⏳ Waiting for RoboDK to be ready...\", end=\"\")\n",
    "connected = False\n",
    "for _ in range(20):\n",
    "    try:\n",
    "        RDK = Robolink('localhost', 20500)\n",
    "        station = RDK.Item('', ITEM_TYPE_STATION)\n",
    "        if station.Valid():\n",
    "            connected = True\n",
    "            break\n",
    "    except:\n",
    "        pass\n",
    "    time.sleep(0.5)\n",
    "    print(\".\", end=\"\")\n",
    "\n",
    "# === 5. Connection result ===\n",
    "if not connected:\n",
    "    print(\"\\n❌ Could not connect to RoboDK API.\")\n",
    "else:\n",
    "    print(\"\\n✅ Connected to RoboDK API.\")\n",
    "    print(f\"📂 Project loaded: {station.Name()}\")\n"
   ]
  },
  {
   "cell_type": "markdown",
   "id": "bced7e96",
   "metadata": {},
   "source": [
    "We also have to setup the RoboDK API in our Python environment. To do this, we will use the following code:\n"
   ]
  },
  {
   "cell_type": "code",
   "execution_count": 5,
   "id": "9e485c41",
   "metadata": {
    "tags": [
     "export"
    ]
   },
   "outputs": [],
   "source": [
    "from robodk.robolink import *    # RoboDK API\n",
    "from robodk.robomath import *    # Robot toolbox\n",
    "from math import pi, radians\n",
    "from numpy import around\n",
    "import time\n",
    "\n",
    "RDK = Robolink()\n",
    "\n",
    "World=RDK.Item(\"World\")\n",
    "Aframe=RDK.Item(\"A-Frame\")\n",
    "Bframe=RDK.Item(\"B-Frame\")\n",
    "myBrick=RDK.Item(\"myBrick\")\n",
    "myBrick.setVisible(False)\n",
    "\n",
    "# Define initial pose (position and orientation)\n",
    "Aframe_init = TxyzRxyz_2_Pose([30, 40, 50, 0, 0, 0])\n",
    "Bframe_init = Aframe_init\n",
    "# Set both frames to the same pose relative to the World\n",
    "Aframe.setParent(World)\n",
    "Bframe.setParent(World)\n",
    "Aframe.setPose(Aframe_init)\n",
    "Bframe.setPose(Bframe_init)\n",
    "\n",
    "# Set myBrick nested to B-Frame\n",
    "myBrick.setParent(Bframe)#Do not maintain the actual absolute POSE\n",
    "myBrick.setVisible(True)\n",
    "time.sleep(2)\n"
   ]
  },
  {
   "cell_type": "markdown",
   "id": "a52d7eea",
   "metadata": {
    "tags": [
     "export"
    ]
   },
   "source": [
    "**a) Find the Pose of Bframe respect World if pose of Aframe is (30,40,50,0,0,0)**\n",
    "\n",
    "To compute the pose of the B-frame with respect to the World frame, we need to construct a **homogeneous transformation matrix (HT)**. This matrix combines both a translation and a rotation, applied in sequence, to describe the pose of an object or coordinate system in 3D space.\n",
    "\n",
    "According to the diagram, the B-frame is first translated by **(0, 60, 0)** with respect the coordinate system of the B-frame. Then, a **rotation of 45° is applied around the X-axis of the mobile frame (Xb)**.\n",
    "\n",
    "We represent the transformation from A-frame to B-frame as the product of a translation and a rotation, in this order because the transformations are made with respect to the mobile B-frame:\n",
    "\n",
    "$$\n",
    "^{Aframe}Pose_{Bframe} = T(0, 60, 0) \\cdot R_x(45^\\circ)\n",
    "$$\n",
    "\n",
    "Where:\n",
    "\n",
    "- $T(0, 60, 0)$ is a translation of 60 mm along the Y-axis of the B-frame.\n",
    "\n",
    "- $R_x(45^\\circ)$ is a rotation of 45° around the X-axis of the B-frame.\n",
    "\n",
    "Translation matrix:\n",
    "$$\n",
    "T(0, 60, 0) =\n",
    "\\begin{bmatrix}\n",
    "1 & 0 & 0 & 0 \\\\\n",
    "0 & 1 & 0 & 60 \\\\\n",
    "0 & 0 & 1 & 0 \\\\\n",
    "0 & 0 & 0 & 1\n",
    "\\end{bmatrix}\n",
    "$$\n",
    "\n",
    "Rotation matrix about the X-axis:\n",
    "$$\n",
    "R_x(45^\\circ) =\n",
    "\\begin{bmatrix}\n",
    "1 & 0 & 0 & 0 \\\\\n",
    "0 & \\cos(45^\\circ) & -\\sin(45^\\circ) & 0 \\\\\n",
    "0 & \\sin(45^\\circ) & \\cos(45^\\circ) & 0 \\\\\n",
    "0 & 0 & 0 & 1\n",
    "\\end{bmatrix}\n",
    "$$\n",
    "\n",
    "The Pose of the B-frame with respect to the A-frame can be expressed as:\n",
    "$$\n",
    "^{Aframe}Pose_{Bframe} =\n",
    "\\begin{bmatrix}\n",
    "1 & 0 & 0 & 0 \\\\\n",
    "0 & \\cos(45^\\circ) & -\\sin(45^\\circ) & 60 \\\\\n",
    "0 & \\sin(45^\\circ) & \\cos(45^\\circ) & 0 \\\\\n",
    "0 & 0 & 0 & 1\n",
    "\\end{bmatrix}\n",
    "$$\n",
    "\n",
    "We are given that the pose of the A-frame with respect to the World frame is:\n",
    "\n",
    "$$\n",
    "^{World}Pose_{Aframe} =\n",
    "\\begin{bmatrix}\n",
    "1 & 0 & 0 & 30 \\\\\n",
    "0 & 1 & 0 & 40 \\\\\n",
    "0 & 0 & 1 & 50 \\\\\n",
    "0 & 0 & 0 & 1\n",
    "\\end{bmatrix}\n",
    "$$\n",
    "\n",
    "This means that the origin of the A-frame is located at coordinates (30, 40, 50), and it is aligned with the World coordinate system (no rotation).\n",
    "\n",
    "**Final pose of the B-frame with respect to the world**\n",
    "\n",
    "The final pose of the B-frame is obtained by:\n",
    "\n",
    "$$\n",
    "^{World}Pose_{Bframe} = ^{World}Pose_{Aframe} \\cdot ^{Aframe}Pose_{Bframe}\n",
    "$$\n",
    "\n",
    "This operation results in:\n",
    "\n",
    "$$\n",
    "^{World}Pose_{Bframe} =\n",
    "\\begin{bmatrix}\n",
    "1 & 0 & 0 & 30 \\\\\n",
    "0 & \\cos(45^\\circ) & -\\sin(45^\\circ) & 100 \\\\\n",
    "0 & \\sin(45^\\circ) & \\cos(45^\\circ) & 50 \\\\\n",
    "0 & 0 & 0 & 1\n",
    "\\end{bmatrix}\n",
    "$$\n",
    "\n",
    "This final matrix indicates that the B-frame is positioned at **(30, 100, 50)** and has undergone a **rotation of 45° around its local X-axis** relative to the A-frame.\n",
    "\n",
    "**The position of CG of the brick with respect to the World after the movement is:**\n",
    "\n",
    "$$\n",
    "^{World}CG_{after} = ^{World}HT_{Bframe} \\cdot ^{Bframe}CG\n",
    "$$\n",
    "\n",
    "This operation results in:\n",
    "\n",
    "$$\n",
    "^{World}Pose_{after} = (50, 98.2, 62.4, 1)\n",
    "$$"
   ]
  },
  {
   "cell_type": "code",
   "execution_count": 11,
   "id": "92a7ffe3",
   "metadata": {
    "tags": [
     "export"
    ]
   },
   "outputs": [
    {
     "name": "stdout",
     "output_type": "stream",
     "text": [
      "Pose B with respect W: Matrix: (4, 4)\n",
      "Pose(30.000, 100.000, 50.000,  45.000, 0.000, -0.000):\n",
      "[[ 1.000, 0.000, 0.000, 30.000 ],\n",
      " [ 0.000, 0.707, -0.707, 100.000 ],\n",
      " [ 0.000, 0.707, 0.707, 50.000 ],\n",
      " [ 0, 0.000, 0.000, 1 ]]\n",
      "\n",
      "Position CG with respect W: array([50. , 98.2, 62.4,  1. ])\n"
     ]
    }
   ],
   "source": [
    "#Move the object with transformation\n",
    "ty=60\n",
    "rx=radians(45)\n",
    "Bframe_final=Bframe_init*transl(0,ty,0)*rotx(rx)\n",
    "Bframe.setPose(Bframe_final)\n",
    "time.sleep(2)\n",
    "print('Pose B with respect W: '+repr(Bframe_final))\n",
    "\n",
    "gc_b=[20, 7.5, 10, 1]\n",
    "gc_w=Bframe_final*gc_b\n",
    "print('Position CG with respect W: '+repr(around(gc_w, decimals=1)))"
   ]
  },
  {
   "cell_type": "markdown",
   "id": "52aca72e",
   "metadata": {
    "tags": [
     "export"
    ]
   },
   "source": [
    "---\n",
    "**b) Find the position of the center of gravity of brick with respect to the Bframe, before and after processing the movement**\n",
    "\n",
    "Brick dimensions\n",
    "\n",
    "- Length (X): 40 mm  \n",
    "- Width (Y): 15 mm  \n",
    "- Height (Z): 20 mm\n",
    "\n",
    "The center of gravity of a rectangular solid is located at its geometric center:\n",
    "\n",
    "$$\n",
    "^{Bframe}CG =\n",
    "\\left(\n",
    "\\frac{40}{2},\\ \\frac{15}{2},\\ \\frac{20}{2}\n",
    "\\right)\n",
    "=\n",
    "(20,\\ 7.5,\\ 10)\n",
    "$$\n",
    "\n",
    "\n",
    "**Before the movement**\n",
    "\n",
    "The brick is initially placed in the B-frame without any offset or rotation. Therefore, the center of gravity with respect to the B-frame is:\n",
    "\n",
    "$$\n",
    "^{Bframe}CG_{before} = (20,\\ 7.5,\\ 10)\n",
    "$$\n",
    "\n",
    "**After the movement**\n",
    "\n",
    "Since the B-frame is moved as a rigid body and the brick is fixed to it, the center of gravity of the brick **does not change with respect to the B-frame**:\n",
    "\n",
    "$$\n",
    "^{Bframe}CG_{after} = (20,\\ 7.5,\\ 10)\n",
    "$$\n",
    "\n"
   ]
  },
  {
   "cell_type": "markdown",
   "id": "02c17dfb",
   "metadata": {
    "tags": [
     "export"
    ]
   },
   "source": [
    "---\n",
    "\n",
    "**c) Find the position of the center of gravity of brick with respect to the A-frame, before and after processing the movement**\n",
    "\n",
    "From section **b)**, the CG in B-frame coordinates is:\n",
    "\n",
    "$\n",
    "^{Bframe}CG = (20,\\ 7.5,\\ 10)\n",
    "$\n",
    "\n",
    "**Before the movement**\n",
    "\n",
    "Before applying any transformation, the B-frame is aligned with the A-frame at the same position and orientation. Therefore, the CG expressed in the A-frame is exactly the same:\n",
    "\n",
    "$$\n",
    "^{Aframe}CG_{before} = ^{Bframe}CG = (20,\\ 7.5,\\ 10)\n",
    "$$\n",
    "\n",
    "**After the movement**\n",
    "\n",
    "To express the CG with respect to the A-frame **after** the movement, we must apply:\n",
    "\n",
    "Let:\n",
    "\n",
    "- $^{Bframe}CG$: coordinates of the center of gravity in B-frame\n",
    "- $^{Aframe}Pose_{Bframe}$: transformation from B-frame to A-frame (defined in part a)\n",
    "\n",
    "We apply:\n",
    "\n",
    "$$\n",
    "^{Aframe}CG_{after} = ^{Aframe}Pose_{Bframe} \\cdot ^{Bframe}CG\n",
    "$$\n",
    "\n",
    "Using:\n",
    "\n",
    "$$\n",
    "^{Aframe}Pose_{Bframe} =\n",
    "\\begin{bmatrix}\n",
    "1 & 0 & 0 & 0 \\\\\n",
    "0 & \\cos(45^\\circ) & -\\sin(45^\\circ) & 60 \\\\\n",
    "0 & \\sin(45^\\circ) & \\cos(45^\\circ) & 0 \\\\\n",
    "0 & 0 & 0 & 1\n",
    "\\end{bmatrix}\n",
    "$$\n",
    "\n",
    "and\n",
    "\n",
    "$$\n",
    "^{Bframe}CG =\n",
    "\\begin{bmatrix}\n",
    "20 \\\\\n",
    "7.5 \\\\\n",
    "10 \\\\\n",
    "1\n",
    "\\end{bmatrix}\n",
    "$$\n",
    "\n",
    "we compute the product:\n",
    "\n",
    "$$\n",
    "^{Aframe}CG_{after} =\n",
    "\\begin{bmatrix}\n",
    "20 \\\\\n",
    "60 + 7.5\\cos(45^\\circ) - 10\\sin(45^\\circ) \\\\\n",
    "7.5\\sin(45^\\circ) + 10\\cos(45^\\circ) \\\\\n",
    "1\n",
    "\\end{bmatrix}\n",
    "$$\n",
    "\n",
    "By replacing $\\cos(45^\\circ)$ and $\\sin(45^\\circ)$ with 0.7071, we get the position of the center of gravity after the movement:\n",
    "\n",
    "\n",
    "$$\n",
    "^{Aframe}CG_{after} \\approx (20,\\ 58.23,\\ 12.37, 1)\n",
    "$$\n",
    "\n",
    "---"
   ]
  },
  {
   "cell_type": "code",
   "execution_count": 13,
   "id": "016b169c",
   "metadata": {
    "tags": [
     "export"
    ]
   },
   "outputs": [
    {
     "name": "stdout",
     "output_type": "stream",
     "text": [
      "Position GC with respect Aframe before movement: [20, 7.5, 10, 1]\n",
      "Position GC with respect Aframe after movement: array([20. , 58.2, 12.4,  1. ])\n"
     ]
    }
   ],
   "source": [
    "gc_b=[20, 7.5, 10, 1]\n",
    "gc_a=transl(0,ty,0)*rotx(rx)*gc_b\n",
    "\n",
    "print('Position GC with respect Aframe before movement: '+repr(gc_b))\n",
    "print('Position GC with respect Aframe after movement: '+repr(around(gc_a, decimals=1)))\n"
   ]
  },
  {
   "cell_type": "markdown",
   "id": "041374d4",
   "metadata": {
    "tags": [
     "export"
    ]
   },
   "source": [
    "**d) Solve also the three previous questions analytically and using roboDK**\n",
    "\n",
    "We can generate:\n",
    "- The complete document in Markdown and save it on a file called \"Exemple1_auto.md\"\n",
    "- The complete python code and save it on a file called \"Exemple1_auto.py\" \n"
   ]
  },
  {
   "cell_type": "code",
   "execution_count": 24,
   "id": "4b8725f8",
   "metadata": {},
   "outputs": [
    {
     "name": "stdout",
     "output_type": "stream",
     "text": [
      "Collecting nbformat\n",
      "  Downloading nbformat-5.8.0-py3-none-any.whl.metadata (3.5 kB)\n",
      "Collecting fastjsonschema (from nbformat)\n",
      "  Downloading fastjsonschema-2.21.1-py3-none-any.whl.metadata (2.2 kB)\n",
      "Collecting importlib-metadata>=3.6 (from nbformat)\n",
      "  Using cached importlib_metadata-6.7.0-py3-none-any.whl.metadata (4.9 kB)\n",
      "Collecting jsonschema>=2.6 (from nbformat)\n",
      "  Downloading jsonschema-4.17.3-py3-none-any.whl.metadata (7.9 kB)\n",
      "Requirement already satisfied: jupyter-core in c:\\users\\puigm\\appdata\\roaming\\python\\python37\\site-packages (from nbformat) (4.10.0)\n",
      "Requirement already satisfied: traitlets>=5.1 in c:\\users\\puigm\\appdata\\roaming\\python\\python37\\site-packages (from nbformat) (5.1.1)\n",
      "Collecting zipp>=0.5 (from importlib-metadata>=3.6->nbformat)\n",
      "  Using cached zipp-3.15.0-py3-none-any.whl.metadata (3.7 kB)\n",
      "Requirement already satisfied: typing-extensions>=3.6.4 in c:\\robodk\\python37\\lib\\site-packages (from importlib-metadata>=3.6->nbformat) (4.5.0)\n",
      "Collecting attrs>=17.4.0 (from jsonschema>=2.6->nbformat)\n",
      "  Downloading attrs-24.2.0-py3-none-any.whl.metadata (11 kB)\n",
      "Collecting importlib-resources>=1.4.0 (from jsonschema>=2.6->nbformat)\n",
      "  Downloading importlib_resources-5.12.0-py3-none-any.whl.metadata (4.1 kB)\n",
      "Collecting pkgutil-resolve-name>=1.3.10 (from jsonschema>=2.6->nbformat)\n",
      "  Downloading pkgutil_resolve_name-1.3.10-py3-none-any.whl.metadata (624 bytes)\n",
      "Collecting pyrsistent!=0.17.0,!=0.17.1,!=0.17.2,>=0.14.0 (from jsonschema>=2.6->nbformat)\n",
      "  Downloading pyrsistent-0.19.3-cp37-cp37m-win_amd64.whl.metadata (975 bytes)\n",
      "Requirement already satisfied: pywin32>=1.0 in c:\\users\\puigm\\appdata\\roaming\\python\\python37\\site-packages (from jupyter-core->nbformat) (303)\n",
      "Downloading nbformat-5.8.0-py3-none-any.whl (77 kB)\n",
      "   ---------------------------------------- 77.4/77.4 kB 2.2 MB/s eta 0:00:00\n",
      "Using cached importlib_metadata-6.7.0-py3-none-any.whl (22 kB)\n",
      "Downloading jsonschema-4.17.3-py3-none-any.whl (90 kB)\n",
      "   ---------------------------------------- 90.4/90.4 kB 5.3 MB/s eta 0:00:00\n",
      "Downloading fastjsonschema-2.21.1-py3-none-any.whl (23 kB)\n",
      "Downloading attrs-24.2.0-py3-none-any.whl (63 kB)\n",
      "   ---------------------------------------- 63.0/63.0 kB ? eta 0:00:00\n",
      "Downloading importlib_resources-5.12.0-py3-none-any.whl (36 kB)\n",
      "Downloading pkgutil_resolve_name-1.3.10-py3-none-any.whl (4.7 kB)\n",
      "Downloading pyrsistent-0.19.3-cp37-cp37m-win_amd64.whl (62 kB)\n",
      "   ---------------------------------------- 62.6/62.6 kB ? eta 0:00:00\n",
      "Using cached zipp-3.15.0-py3-none-any.whl (6.8 kB)\n",
      "Installing collected packages: fastjsonschema, zipp, pyrsistent, pkgutil-resolve-name, importlib-resources, importlib-metadata, attrs, jsonschema, nbformat\n",
      "Successfully installed attrs-24.2.0 fastjsonschema-2.21.1 importlib-metadata-6.7.0 importlib-resources-5.12.0 jsonschema-4.17.3 nbformat-5.8.0 pkgutil-resolve-name-1.3.10 pyrsistent-0.19.3 zipp-3.15.0\n"
     ]
    }
   ],
   "source": [
    "%pip install nbformat"
   ]
  },
  {
   "cell_type": "code",
   "execution_count": 14,
   "id": "d99c8e86",
   "metadata": {},
   "outputs": [
    {
     "name": "stdout",
     "output_type": "stream",
     "text": [
      "✅ Exported 3 cells to Exercise1_auto.py\n"
     ]
    }
   ],
   "source": [
    "from nbformat import read\n",
    "from pathlib import Path\n",
    "\n",
    "notebook_file = \"POSE_Exercise1_student_solution.ipynb\"\n",
    "output_py = \"Exercise1_auto.py\"\n",
    "\n",
    "with open(notebook_file, \"r\", encoding=\"utf-8\") as f:\n",
    "    nb = read(f, as_version=4)\n",
    "\n",
    "selected_cells = []\n",
    "for cell in nb.cells:\n",
    "    if cell.cell_type == \"code\":\n",
    "        tags = cell.metadata.get(\"tags\", [])\n",
    "        if \"export\" in tags:\n",
    "            selected_cells.append(cell.source)\n",
    "\n",
    "Path(output_py).write_text(\"\\n\\n\".join(selected_cells), encoding=\"utf-8\")\n",
    "print(f\"✅ Exported {len(selected_cells)} cells to {output_py}\")\n"
   ]
  },
  {
   "cell_type": "code",
   "execution_count": 26,
   "id": "bbc7b4f0",
   "metadata": {},
   "outputs": [
    {
     "name": "stdout",
     "output_type": "stream",
     "text": [
      "✅ Exported 3 code cells to Exercise1_auto.py\n",
      "📝 Exported 6 markdown cells to Exercise1_notes.md\n"
     ]
    }
   ],
   "source": [
    "from nbformat import read\n",
    "from pathlib import Path\n",
    "\n",
    "# Input notebook\n",
    "notebook_file = \"POSE_Exercise1_student_solution.ipynb\"\n",
    "\n",
    "# Output files\n",
    "output_py = \"Exercise1_auto.py\"\n",
    "output_md = \"Exercise1_notes.md\"\n",
    "\n",
    "# Load notebook\n",
    "with open(notebook_file, \"r\", encoding=\"utf-8\") as f:\n",
    "    nb = read(f, as_version=4)\n",
    "\n",
    "# Prepare cell content\n",
    "code_cells = []\n",
    "markdown_cells = []\n",
    "\n",
    "for cell in nb.cells:\n",
    "    tags = cell.metadata.get(\"tags\", [])\n",
    "    if \"export\" in tags:\n",
    "        if cell.cell_type == \"code\":\n",
    "            code_cells.append(cell.source)\n",
    "        elif cell.cell_type == \"markdown\":\n",
    "            markdown_cells.append(cell.source)\n",
    "\n",
    "# Save .py file\n",
    "Path(output_py).write_text(\"\\n\\n\".join(code_cells), encoding=\"utf-8\")\n",
    "print(f\"✅ Exported {len(code_cells)} code cells to {output_py}\")\n",
    "\n",
    "# Save .md file\n",
    "Path(output_md).write_text(\"\\n\\n---\\n\\n\".join(markdown_cells), encoding=\"utf-8\")\n",
    "print(f\"📝 Exported {len(markdown_cells)} markdown cells to {output_md}\")\n"
   ]
  },
  {
   "cell_type": "markdown",
   "id": "dffe0d60",
   "metadata": {
    "tags": [
     "export"
    ]
   },
   "source": [
    "We can run the generated \"Exemple1_auto.py\" verify we obtain the same results.\n",
    "\n",
    "<img src=\"images/ex1_dk.png\" width=\"300\"/>\n"
   ]
  },
  {
   "cell_type": "code",
   "execution_count": 24,
   "id": "9095e664",
   "metadata": {},
   "outputs": [
    {
     "name": "stdout",
     "output_type": "stream",
     "text": [
      "📤 STDOUT:\n",
      "Pose B with respect W: Matrix: (4, 4)\n",
      "Pose(30.000, 100.000, 50.000,  45.000, 0.000, -0.000):\n",
      "[[ 1.000, 0.000, 0.000, 30.000 ],\n",
      " [ 0.000, 0.707, -0.707, 100.000 ],\n",
      " [ 0.000, 0.707, 0.707, 50.000 ],\n",
      " [ 0, 0.000, 0.000, 1 ]]\n",
      "\n",
      "Position CG with respect W: array([50. , 98.2, 62.4,  1. ])\n",
      "Position GC with respect Aframe before movement: [20, 7.5, 10, 1]\n",
      "Position GC with respect Aframe after movement: array([20. , 58.2, 12.4,  1. ])\n",
      "\n",
      "❌ STDERR (if any):\n",
      "\n"
     ]
    }
   ],
   "source": [
    "import subprocess\n",
    "from pathlib import Path\n",
    "import sys\n",
    "\n",
    "# Get the current script directory and script path\n",
    "notebook_dir = Path().resolve()\n",
    "script_path = (notebook_dir / \"Exercise1_auto.py\").resolve()\n",
    "\n",
    "# Run the script and capture its output\n",
    "result = subprocess.run(\n",
    "    [sys.executable, str(script_path)],\n",
    "    capture_output=True,\n",
    "    text=True\n",
    ")\n",
    "\n",
    "# Print the captured output\n",
    "print(\"📤 STDOUT:\")\n",
    "print(result.stdout)\n",
    "\n",
    "print(\"❌ STDERR (if any):\")\n",
    "print(result.stderr)"
   ]
  }
 ],
 "metadata": {
  "kernelspec": {
   "display_name": "Python 3",
   "language": "python",
   "name": "python3"
  },
  "language_info": {
   "codemirror_mode": {
    "name": "ipython",
    "version": 3
   },
   "file_extension": ".py",
   "mimetype": "text/x-python",
   "name": "python",
   "nbconvert_exporter": "python",
   "pygments_lexer": "ipython3",
   "version": "3.7.3"
  }
 },
 "nbformat": 4,
 "nbformat_minor": 5
}
